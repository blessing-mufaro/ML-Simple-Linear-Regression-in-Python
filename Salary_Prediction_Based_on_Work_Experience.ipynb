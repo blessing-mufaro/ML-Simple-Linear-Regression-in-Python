{
  "nbformat": 4,
  "nbformat_minor": 0,
  "metadata": {
    "colab": {
      "name": "Salary Prediction Based on Work Experience.ipynb",
      "provenance": [],
      "authorship_tag": "ABX9TyNmeFqbFnMeYVKQjaz1cNX5",
      "include_colab_link": true
    },
    "kernelspec": {
      "name": "python3",
      "display_name": "Python 3"
    },
    "language_info": {
      "name": "python"
    }
  },
  "cells": [
    {
      "cell_type": "markdown",
      "metadata": {
        "id": "view-in-github",
        "colab_type": "text"
      },
      "source": [
        "<a href=\"https://colab.research.google.com/github/blessing-mufaro/Simple-Linear-Regression-in-Python/blob/main/Salary_Prediction_Based_on_Work_Experience.ipynb\" target=\"_parent\"><img src=\"https://colab.research.google.com/assets/colab-badge.svg\" alt=\"Open In Colab\"/></a>"
      ]
    },
    {
      "cell_type": "markdown",
      "metadata": {
        "id": "3tCGOH-jvxcZ"
      },
      "source": [
        "# Import Library"
      ]
    },
    {
      "cell_type": "code",
      "metadata": {
        "id": "xETY8KlItSwX"
      },
      "source": [
        "\n",
        "import numpy as np\n",
        "import pandas as pd\n",
        "import matplotlib.pyplot as plt"
      ],
      "execution_count": null,
      "outputs": []
    },
    {
      "cell_type": "markdown",
      "metadata": {
        "id": "KevDhH90wCUx"
      },
      "source": [
        "# Import Dataset"
      ]
    },
    {
      "cell_type": "code",
      "metadata": {
        "id": "s8eH9JFMvZJJ"
      },
      "source": [
        "dataset = read_csv('salary_data.csv')\n",
        "print(dataset)"
      ],
      "execution_count": null,
      "outputs": []
    },
    {
      "cell_type": "code",
      "metadata": {
        "id": "oknKI9RU0r0I"
      },
      "source": [
        "X = dataset.iloc[:,:-1].values\n",
        "Y = dataset.iloc[:,-1].values\n",
        " \n",
        "print(X)\n",
        "print(Y)"
      ],
      "execution_count": null,
      "outputs": []
    },
    {
      "cell_type": "code",
      "metadata": {
        "id": "TSO3pw3E0-Tx"
      },
      "source": [
        "plt.xlabel('area')\n",
        "plt.ylabel('price')\n",
        "plt.title('Area vs. Price')\n",
        "plt.scatter(X,Y,color='red',marker='+')"
      ],
      "execution_count": null,
      "outputs": []
    },
    {
      "cell_type": "markdown",
      "metadata": {
        "id": "huN7T2MxwCx8"
      },
      "source": [
        "# Split the data"
      ]
    },
    {
      "cell_type": "code",
      "metadata": {
        "id": "vKq0tSTexbDQ"
      },
      "source": [
        " from sklearn.model_selection import train_test_split\n",
        "X_train, X_test, Y_train, Y_test = train_test_split(X,Y, test_size=0.3)\n",
        "print(X_train.shape, X_test.shape)"
      ],
      "execution_count": null,
      "outputs": []
    },
    {
      "cell_type": "markdown",
      "metadata": {
        "id": "p3ecg51WwDJG"
      },
      "source": [
        "# Fitting Simple Linear Regression"
      ]
    },
    {
      "cell_type": "code",
      "metadata": {
        "id": "VmsyI5RExcUu"
      },
      "source": [
        " from sklearn.linear_model import LinearRegression\n",
        "model = LinearRegression()\n",
        "model.fit(X_train, Y_train)"
      ],
      "execution_count": null,
      "outputs": []
    },
    {
      "cell_type": "markdown",
      "metadata": {
        "id": "-y0-JArpwDbD"
      },
      "source": [
        "# Predicting the test results"
      ]
    },
    {
      "cell_type": "code",
      "metadata": {
        "id": "BEKqZkMRxdFR"
      },
      "source": [
        " Y_pred = model.predict(X_test)\n",
        "print(Y_pred)\n",
        "print(Y_train)"
      ],
      "execution_count": null,
      "outputs": []
    },
    {
      "cell_type": "markdown",
      "metadata": {
        "id": "sx6ivrddwDtQ"
      },
      "source": [
        "# Calculate Accuracy"
      ]
    },
    {
      "cell_type": "code",
      "metadata": {
        "id": "sfYHShskxeSI"
      },
      "source": [
        " accuracy = model.score(X_test,Y_test)\n",
        "print(accuracy)"
      ],
      "execution_count": null,
      "outputs": []
    },
    {
      "cell_type": "markdown",
      "metadata": {
        "id": "b_zFshwywxj-"
      },
      "source": [
        "# Plot the regression curve"
      ]
    },
    {
      "cell_type": "code",
      "metadata": {
        "id": "zutp0tERxfgL"
      },
      "source": [
        "plt.scatter(X_train,Y_train,color='red',marker='+')\n",
        "plt.xlabel('YearsExperience')\n",
        "plt.ylabel('Salary')\n",
        "plt.title('YearsExperience vs Salary (Traning Data) ')\n",
        "plt.plot(X_train, model.predict(X_train), color='blue')\n",
        "plt.show()\n",
        " \n",
        "plt.scatter(X_test,Y_test,color='red',marker='+')\n",
        "plt.xlabel('YearsExperience')\n",
        "plt.ylabel('Salary')\n",
        "plt.title('YearsExperience vs Salary (Test DataSet)')\n",
        "plt.plot(X_test, model.predict(X_test), color='blue')\n",
        "plt.show()"
      ],
      "execution_count": null,
      "outputs": []
    },
    {
      "cell_type": "markdown",
      "metadata": {
        "id": "DCgBjlZYwyEv"
      },
      "source": [
        "# Predict on external data"
      ]
    },
    {
      "cell_type": "code",
      "metadata": {
        "id": "g7dI2LNDxg3V"
      },
      "source": [
        "test_data = np.array([[3300]])\n",
        "test_pred = model.predict(test_data)\n",
        "print(test_pred)"
      ],
      "execution_count": null,
      "outputs": []
    },
    {
      "cell_type": "markdown",
      "metadata": {
        "id": "SEuLEOdWwyfB"
      },
      "source": [
        "#Predict data from user through manual input"
      ]
    },
    {
      "cell_type": "code",
      "metadata": {
        "id": "7P714eG-xijZ"
      },
      "source": [
        "WorkExperience = int(input(\"How many years have you worked in this field of expertise?\"))\n",
        "SalaryEarned = model.predict(np.array([[WorkExperience]])) \n",
        "print('Estimated salary ' + str(WorkExperience) + 'years of experience are' + str(SalaryEarned[0]))"
      ],
      "execution_count": null,
      "outputs": []
    }
  ]
}